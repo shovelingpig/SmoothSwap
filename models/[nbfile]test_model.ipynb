{
 "cells": [
  {
   "cell_type": "code",
   "execution_count": 1,
   "id": "0fa10bcc",
   "metadata": {
    "scrolled": true
   },
   "outputs": [
    {
     "name": "stdout",
     "output_type": "stream",
     "text": [
      "/FaceSwap/swappers/SmoothSwap/models\n",
      "/FaceSwap/swappers/SmoothSwap/models\n",
      "/FaceSwap/swappers/SmoothSwap/models\n"
     ]
    },
    {
     "name": "stderr",
     "output_type": "stream",
     "text": [
      "/opt/conda/lib/python3.8/site-packages/hydra/_internal/defaults_list.py:251: UserWarning: In 'config.yaml': Defaults list is missing `_self_`. See https://hydra.cc/docs/upgrades/1.0_to_1.1/default_composition_order for more information\n",
      "  warnings.warn(msg, UserWarning)\n"
     ]
    }
   ],
   "source": [
    "import os\n",
    "import numpy as np\n",
    "from PIL import Image\n",
    "import sys\n",
    "__file__path = os.path.abspath(\"../\")\n",
    "sys.path.append(__file__path)\n",
    "\n",
    "import torch\n",
    "from torch import nn\n",
    "from torch import optim\n",
    "import torch.nn.functional as F\n",
    "from torchvision import transforms\n",
    "from torch.utils.data import Dataset\n",
    "\n",
    "# Configuration \n",
    "from omegaconf import DictConfig, OmegaConf\n",
    "import hydra\n",
    "config_path = \"../configs\"\n",
    "config_name = \"config.yaml\"\n",
    "try: hydra.initialize(version_base=None, \n",
    "                      config_path=config_path)\n",
    "except: pass\n",
    "cfg = hydra.compose(config_name=config_name)\n",
    "# print(OmegaConf.to_yaml(cfg))\n",
    "\n",
    "from id_emb import IdEmbedder\n",
    "from generator import Generator\n",
    "from discriminator import Discriminator\n",
    "\n",
    "\n",
    "class FaceSwapModel(nn.Module):\n",
    "    def __init__(self, G, E, D):\n",
    "        super(FaceSwapModel, self).__init__()\n",
    "        self.G = G\n",
    "        self.D = D\n",
    "        self.E = E\n",
    "\n",
    "    def forward(self, x_src, x_tar):\n",
    "        z_src = self.E(x_src)\n",
    "        swap = self.G(x_tar, z_src)\n",
    "        disc = self.D(swap)\n",
    "        z_swap = self.E(swap)\n",
    "        return z_src, swap, z_swap, disc\n",
    "    \n",
    "    def get_discriminant(self, x):\n",
    "        return self.D(x)\n",
    "\n",
    "    def get_id_embedding(self, x):\n",
    "        return self.E(x)\n",
    "    \n",
    "    def get_swap_face(self, x_src, x_tar):\n",
    "        temb = self.E(x_src)\n",
    "        return self.G(x_tar, temb)\n",
    "    "
   ]
  },
  {
   "cell_type": "code",
   "execution_count": 2,
   "id": "6c802dc2",
   "metadata": {},
   "outputs": [],
   "source": [
    "DEVICE = \"cuda\" if torch.cuda.is_available() else \"cpu\""
   ]
  },
  {
   "cell_type": "code",
   "execution_count": 3,
   "id": "77e09ddd",
   "metadata": {},
   "outputs": [
    {
     "name": "stderr",
     "output_type": "stream",
     "text": [
      "Using cache found in /root/.cache/torch/hub/pytorch_vision_v0.10.0\n",
      "Using cache found in /root/.cache/torch/hub/pytorch_vision_v0.10.0\n"
     ]
    },
    {
     "name": "stdout",
     "output_type": "stream",
     "text": [
      "cuda\n"
     ]
    }
   ],
   "source": [
    "# model\n",
    "G = Generator(cfg)\n",
    "D = Discriminator(cfg.discriminator.image_size)\n",
    "E = IdEmbedder(cfg)\n",
    "if cfg.id_emb.checkpoint_path:\n",
    "    E.load_state_dict(cfg.id_emb.checkpoint_path)\n",
    "E.requires_grad_(False)\n",
    "E.eval()\n",
    "\n",
    "cuda = torch.cuda.is_available()\n",
    "if cuda:\n",
    "    print(\"cuda\")\n",
    "    G.cuda()\n",
    "    D.cuda()\n",
    "    E.cuda()"
   ]
  },
  {
   "cell_type": "code",
   "execution_count": 4,
   "id": "0889a4a3",
   "metadata": {},
   "outputs": [],
   "source": [
    "fsm = FaceSwapModel(G, E, D)\n",
    "\n",
    "# fsm = fsm.cuda()\n",
    "\n",
    "# src.get_device(), tar.get_device()\n",
    "\n",
    "# for p in fsm.G.parameters():\n",
    "#     print(p.get_device())"
   ]
  },
  {
   "cell_type": "code",
   "execution_count": 5,
   "id": "712517ab",
   "metadata": {},
   "outputs": [
    {
     "data": {
      "text/plain": [
       "tensor([[[[ 0.5289,  0.0999,  0.3193,  ...,  1.0439,  0.3769,  0.6612],\n",
       "          [ 0.3331,  0.7995,  0.0398,  ...,  0.6734,  0.1045,  0.4326],\n",
       "          [ 0.3096,  0.8701, -0.2913,  ..., -0.1025,  0.0630,  0.5632],\n",
       "          ...,\n",
       "          [ 0.7968,  0.4074,  0.5252,  ...,  0.2419,  0.8396,  0.4551],\n",
       "          [ 0.1080,  0.8045,  0.8402,  ...,  1.0944,  0.7276,  0.5265],\n",
       "          [-0.0148,  0.8503, -0.0139,  ...,  0.9138,  0.8824,  0.2128]],\n",
       "\n",
       "         [[ 0.8109,  0.7256,  0.4635,  ...,  0.7559,  0.7953,  0.2134],\n",
       "          [ 1.0437,  0.3492,  0.3103,  ...,  0.0915,  0.5142, -0.0073],\n",
       "          [ 0.1676,  0.3542,  0.8337,  ...,  0.4583,  0.9360,  0.4233],\n",
       "          ...,\n",
       "          [ 1.0549,  0.9396,  0.5832,  ...,  0.8090,  0.8225,  0.6771],\n",
       "          [ 0.6588,  0.8847,  0.6304,  ...,  0.7612,  0.3081,  0.1469],\n",
       "          [ 0.4728,  0.7343,  0.5883,  ...,  0.9456,  0.2606,  0.5176]],\n",
       "\n",
       "         [[ 0.5006,  0.1963,  0.8221,  ...,  0.7159,  1.1728,  0.7141],\n",
       "          [-0.0568,  0.6312,  0.6545,  ...,  0.7394,  0.6277,  0.4676],\n",
       "          [ 0.5292,  0.8363,  0.6957,  ...,  0.3814,  0.1140,  0.0994],\n",
       "          ...,\n",
       "          [ 0.8736,  0.1675,  0.5549,  ...,  0.4985,  0.8140,  0.7928],\n",
       "          [ 0.6166,  0.2371,  0.5392,  ...,  0.3645,  0.1854,  0.4227],\n",
       "          [ 0.6614,  0.7539,  0.1373,  ...,  0.9018,  0.8831,  0.6180]]],\n",
       "\n",
       "\n",
       "        [[[ 0.1491,  0.4666,  0.0501,  ...,  0.4836,  0.6171,  1.0057],\n",
       "          [-0.1985,  0.4690,  0.6785,  ...,  0.2812,  0.8233,  0.7009],\n",
       "          [ 0.0508,  0.6712, -0.2504,  ...,  0.6382,  0.3247,  0.2893],\n",
       "          ...,\n",
       "          [ 0.2139,  0.5838,  0.6885,  ...,  0.6009,  0.1847,  0.2037],\n",
       "          [ 0.7862,  0.3551,  0.3676,  ...,  0.2062,  1.0436,  0.5560],\n",
       "          [ 0.9202,  0.2189,  0.3669,  ...,  0.4308,  0.6385,  0.3919]],\n",
       "\n",
       "         [[ 0.1211,  0.6793,  0.8205,  ...,  0.6119,  0.4998,  0.8380],\n",
       "          [ 0.6036,  0.3115,  0.0995,  ...,  0.3714,  0.1251,  0.6305],\n",
       "          [ 0.4859,  0.8091,  0.4933,  ...,  0.1007,  0.1913,  0.4806],\n",
       "          ...,\n",
       "          [ 0.5739,  0.6188,  0.6480,  ...,  0.3456,  0.0197,  0.2880],\n",
       "          [ 0.3480,  0.9014,  0.8688,  ...,  0.5959,  0.4372,  0.2998],\n",
       "          [ 0.1107,  0.0572,  0.6843,  ...,  0.5092,  0.7603,  0.1950]],\n",
       "\n",
       "         [[ 1.0111,  0.9362,  0.2733,  ...,  0.4266,  0.9955,  0.2867],\n",
       "          [ 0.5065, -0.1033, -0.0236,  ...,  0.4813,  0.4047,  0.6228],\n",
       "          [ 0.3992,  0.2002,  0.6426,  ...,  0.0750,  0.9249,  0.2169],\n",
       "          ...,\n",
       "          [ 0.2868,  0.7377,  0.8917,  ...,  0.7223,  0.7599,  0.3930],\n",
       "          [ 0.7746,  0.2017,  0.6314,  ...,  0.8174,  0.1550,  0.8907],\n",
       "          [ 0.8506,  0.2619,  0.5014,  ...,  0.1517,  0.9414,  0.3273]]]],\n",
       "       device='cuda:0', grad_fn=<AddBackward0>)"
      ]
     },
     "execution_count": 5,
     "metadata": {},
     "output_type": "execute_result"
    }
   ],
   "source": [
    "src, tar = torch.rand((2, 3, 256, 256)).to(DEVICE), torch.rand((2, 3, 256, 256)).to(DEVICE)\n",
    "fsm.get_swap_face(src, tar)"
   ]
  },
  {
   "cell_type": "code",
   "execution_count": null,
   "id": "6709b970",
   "metadata": {},
   "outputs": [],
   "source": []
  },
  {
   "cell_type": "code",
   "execution_count": null,
   "id": "6c4644e4",
   "metadata": {},
   "outputs": [],
   "source": []
  }
 ],
 "metadata": {
  "kernelspec": {
   "display_name": "Python 3 (ipykernel)",
   "language": "python",
   "name": "python3"
  },
  "language_info": {
   "codemirror_mode": {
    "name": "ipython",
    "version": 3
   },
   "file_extension": ".py",
   "mimetype": "text/x-python",
   "name": "python",
   "nbconvert_exporter": "python",
   "pygments_lexer": "ipython3",
   "version": "3.8.12"
  }
 },
 "nbformat": 4,
 "nbformat_minor": 5
}
